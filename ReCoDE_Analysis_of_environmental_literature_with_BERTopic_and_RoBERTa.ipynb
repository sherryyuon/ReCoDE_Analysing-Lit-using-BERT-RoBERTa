{
  "nbformat": 4,
  "nbformat_minor": 0,
  "metadata": {
    "colab": {
      "provenance": [],
      "toc_visible": true,
      "authorship_tag": "ABX9TyPW+pp5ZT4IWni47DHgJWLE",
      "include_colab_link": true
    },
    "kernelspec": {
      "name": "python3",
      "display_name": "Python 3"
    },
    "language_info": {
      "name": "python"
    }
  },
  "cells": [
    {
      "cell_type": "markdown",
      "metadata": {
        "id": "view-in-github",
        "colab_type": "text"
      },
      "source": [
        "<a href=\"https://colab.research.google.com/github/sherryyuon/ReCoDE_Analysing-Lit-using-BERT-RoBERTa/blob/main/ReCoDE_Analysis_of_environmental_literature_with_BERTopic_and_RoBERTa.ipynb\" target=\"_parent\"><img src=\"https://colab.research.google.com/assets/colab-badge.svg\" alt=\"Open In Colab\"/></a>"
      ]
    },
    {
      "cell_type": "markdown",
      "source": [
        "# **Explosive litearture in Environmental and Sustainability Studies**"
      ],
      "metadata": {
        "id": "PXotT5owhgFT"
      }
    },
    {
      "cell_type": "markdown",
      "source": [
        "The field of **environmental and sustainability** studies has witnessed an explosive growth in literature over the past few decades, driven by the increasing global awareness and urgency surrounding environmental issues, climate change, and the need for sustainable practices.\n",
        "\n",
        "This rapidly expanding body of literature is characterized by its **interdisciplinary nature**, encompassing a wide range of disciplines such as ecology, climate science, energy, economics, policy, sociology, and more. With a global focus and contributions from countries around the world, the literature base reflects **diverse cultural, socio-economic, and geographical contexts**, often in multiple languages. **Novel research areas and emerging topics**, such as circular economy, sustainable urban planning, environmental justice, biodiversity conservation, renewable energy technologies, and ecosystem services, continue to arise as environmental challenges evolve and our understanding deepens. The **development of environmental policies**, regulations, and international agreements, as well as increased public interest and awareness, have further fueled research and the demand for literature aimed at informing and engaging various stakeholders. **Technological advancements** in areas like remote sensing, environmental monitoring, and computational modeling have enabled new avenues of research and data-driven studies, contributing to the proliferation of literature. **The rise of open access publishing and digital platforms** has facilitated the dissemination and accessibility of this constantly evolving and interdisciplinary body of knowledge.\n",
        "\n",
        "So, in summary, the explosive growth of the literature across multiple disciplines, geographic regions, languages, and emerging topics poses significant challenges in terms of effectively organizing, synthesizing, and extracting insights from this vast and rapidly expanding body of knowledge. This is where **Natural Language Processing (NLP)** techniques like **topic modeling** with BERTopic and advanced language models like RoBERTa can play a crucial role. Their ability to process large volumes of text data, identify semantic topics and patterns, cluster related documents, and handle multiple languages can help researchers, policymakers, and stakeholders navigate this extensive literature more effectively.\n",
        "\n",
        "\n",
        "Also, as a STEMM PhD student at Imperial, who is going to step into a new field like Sustainability, it is helpful to learn how to take advantage of the NLP tools to accelerate your literature exploration and review process, and achieve a more smooth interdisciplinary research.\n",
        "\n",
        "**Furthermore, as a STEMM PhD student at Imperial stepping into a new field such as Sustainability, taking advantage of the NLP tools can significantly enhance the efficiency of literature exploration and review. This skill facilitates a seamless transition into interdisciplinary research, empowering you to navigate diverse datasets and extract valuable insights with greater ease and precision.**"
      ],
      "metadata": {
        "id": "osGrfuNxkh_B"
      }
    },
    {
      "cell_type": "markdown",
      "source": [
        "# **The Potential of Topic Modeling**"
      ],
      "metadata": {
        "id": "DBgfta07hgwn"
      }
    },
    {
      "cell_type": "markdown",
      "source": [
        "Topic modeling is a technique in NLP and machine learning used to discover abstract \"topics\" that occur in a collection of documents. The key idea is that documents are made up of mixtures of topics, and that each topic is a probability distribution over words.\n",
        "\n",
        "More specifically, topic modeling algorithms like Latent Dirichlet Allocation (LDA) work by:\n",
        "\n",
        "1. Taking a set of text documents as input.\n",
        "2. Learning the topics contained in those documents in an unsupervised way. Each topic is represented as a distribution over the words that describe that topic.\n",
        "3. Assigning each document a mixture of topics with different weights/proportions.\n",
        "\n",
        "For example, if you ran topic modeling on a set of news articles, it may discover topics like \"politics\", \"sports\", \"technology\", etc. The \"politics\" topic would be made up of words like \"government\", \"election\", \"policy\" with high probabilities. Each document would then be characterized as a mixture of different proportions of these topics.\n",
        "\n",
        "The key benefits of topic modeling include:\n",
        "\n",
        "1. Automatically discovering topics without need for labeled data\n",
        "2. Understanding the themes/concepts contained in large document collections\n",
        "3. Organizing, searching, and navigating over a document corpus by topics\n",
        "4. Providing low-dimensional representations of documents based on their topics\n",
        "\n",
        "Topic modeling has found applications in areas like **information retrieval, exploratory data analysis, document clustering and classification, recommendation systems**, and more. Popular implementations include Latent Dirichlet Allocation (LDA), Biterm Topic Model (BTM), and techniques leveraging neural embeddings like BERTopic."
      ],
      "metadata": {
        "id": "c-h5nF0jkqgY"
      }
    },
    {
      "cell_type": "markdown",
      "source": [
        "# **BERTopic and RoBERTa**"
      ],
      "metadata": {
        "id": "sRt3iHIAhhGK"
      }
    },
    {
      "cell_type": "markdown",
      "source": [
        "**BERTopic** and **RoBERTa**, leveraging transformer-based NLP, offer potent solutions to analyze the explosively growing, multilingual environmental and sustainability literature by enabling unsupervised topic modeling, semantic understanding, and scalable analysis of massive text corpora, empowering researchers to navigate this vast interdisciplinary knowledge domain effectively. More specifically:\n",
        "\n",
        "* Cross-lingual Topic Modeling: BERTopic can leverage multilingual language models like RoBERTa to perform topic modeling on text data from different languages simultaneously. This can reveal common themes, research areas, and concepts across diverse linguistic and cultural backgrounds in the environmental domain.\n",
        "* Identifying Language-specific Nuances: By analyzing literature in multiple languages separately or comparatively, BERTopic and RoBERTa can help uncover language-specific nuances, terminologies, and perspectives on environmental and sustainability issues.\n",
        "* Facilitating Knowledge Transfer: Effective topic modeling and clustering of multilingual literature can bridge language barriers and facilitate knowledge transfer across different regions, enabling researchers and policymakers to access and understand diverse perspectives on environmental challenges.\n",
        "* Monitoring Global Trends: With the increasing globalization of environmental research and policymaking, analyzing literature in multiple languages can provide a more comprehensive understanding of global trends, priorities, and emerging areas of interest in sustainability studies."
      ],
      "metadata": {
        "id": "aAFDnsw7nkwC"
      }
    },
    {
      "cell_type": "markdown",
      "source": [
        "**BERTopic:**\n",
        "\n",
        "BERTopic is a topic modeling technique that leverages transformer language models to perform unsupervised topic extraction and document clustering. Its key features include:\n",
        "\n",
        "*   Unsupervised Learning: BERTopic does not require labeled training data, making it useful for exploring and understanding large unlabeled text corpora.\n",
        "Semantic Topic Modeling: It uses contextualized word embeddings from BERT-like models to capture the semantic meaning of words, resulting in more coherent and meaningful topics.\n",
        "*   Document Clustering: In addition to topic extraction, BERTopic can also cluster documents based on their topic distributions, enabling exploration of document collections.\n",
        "*   Dynamic Topic Modeling: It allows for dynamic updates of the topic model as new data becomes available, making it suitable for streaming or evolving text sources.\n",
        "\n",
        "BERTopic has applications in various domains, such as text summarization, information retrieval, and content organization."
      ],
      "metadata": {
        "id": "d83GZWUqhjhL"
      }
    },
    {
      "cell_type": "markdown",
      "source": [
        "**RoBERTa:**\n",
        "\n",
        "RoBERTa (Robustly Optimized BERT Pretraining Approach) is a variant of the BERT language model, introduced by researchers at Facebook AI Research. It is a pre-trained model on a large corpus of text data using the same pretraining objectives as BERT (Masked Language Modeling and Next Sentence Prediction). However, RoBERTa introduces several improvements over the original BERT:\n",
        "\n",
        "\n",
        "*   Larger Training Data: RoBERTa was trained on a much larger dataset compared to BERT, leading to better performance on various NLP tasks.\n",
        "*   Longer Training: RoBERTa was trained for a longer period with more iterations, allowing it to capture more contextual information.\n",
        "*   Dynamic Masking: Instead of static masking used in BERT, RoBERTa employs dynamic masking, which randomly masks different tokens during each training iteration.\n",
        "*   Removal of Next Sentence Prediction: RoBERTa dropped the Next Sentence Prediction objective, focusing solely on the Masked Language Modeling task.\n",
        "\n",
        "RoBERTa has achieved state-of-the-art performance on various NLP benchmarks and has been widely adopted as a base model for fine-tuning on specific tasks, such as text classification, question answering, and named entity recognition."
      ],
      "metadata": {
        "id": "5uk7_u2DiSWV"
      }
    },
    {
      "cell_type": "markdown",
      "source": [
        "By synergistically leveraging BERTopic's unsupervised topic extraction capabilities and RoBERTa's robust language understanding, researchers can effectively navigate and uncover salient themes, trends, and interdisciplinary connections within the rapidly growing and multilingual corpus of environmental and sustainability literature. This powerful combination of NLP techniques holds immense potential to facilitate knowledge transfer across domains, identify critical research gaps, and ultimately support data-driven decision-making processes aimed at tackling pressing global environmental challenges at scale."
      ],
      "metadata": {
        "id": "b7l4sqajiVJB"
      }
    },
    {
      "cell_type": "markdown",
      "source": [
        "# **Learning Objectives**"
      ],
      "metadata": {
        "id": "tHHGGw-FvGsZ"
      }
    },
    {
      "cell_type": "markdown",
      "source": [
        "By the end of this unit [lecture/module/course] on [name/topic] students will be able to …\n",
        "\n",
        "This is the antecedent (A) that introduces a list of learning outcomes that arise from the learning activity.\n",
        "\n",
        "So consider the following Learning Outcome:\n",
        "\n",
        "At the end of this research methods lecture students will be able to:\n",
        "Explain the difference between method A and method B in terms of experimental yield in their practical report.\n",
        "\n",
        "The opening general statement ‘At the end of this research methods lecture students will be able to ...’ provides some context and also indicates the timing. For example, what might be expected at the end of a course would be different from what could be achieved in a single lecture.\n",
        "\n",
        "In this case the actual knowledge is about ‘method A and method B’. This is probably some form of procedural knowledge, i.e. how something is done experimentally. The modifier ‘in terms of experimental yield’ adds more detail of context and helps make what is expected more specific. Together this describes the behaviour. The last clause ‘in their practical report’ indicates how the knowledge will be applied and gives a clue to the potential assessment context.\n",
        "\n",
        "Importantly, the action verb ‘Explain’ indicates the type and level of learning you expect of the student, and expresses this in terms of how the student will be expected to demonstrate that they have achieved it."
      ],
      "metadata": {
        "id": "FTydY2Ab5IT-"
      }
    },
    {
      "cell_type": "markdown",
      "source": [
        "# **Requirements**\n",
        "It would help a lot if you went through the following Graduate School courses before going through this exemplar:\n",
        "* Introduction to Python\n",
        "* Data Exploration and Visualisation\n",
        "* Data Processing with Python Pandas\n",
        "* Plotting in Python with Matplotlib\n",
        "* Binary Classification of Patent Text Using Natural Language Processing (another ReCoDE project)\n",
        "\n",
        "Academic:\n",
        "* Access to Google Colaboratory\n",
        "* Basic Math (matrices, averages)\n",
        "* Programming skills (python, pandas, numpy, tensorflow)\n",
        "* Machine learning theory (at level of intro to machine learning course)"
      ],
      "metadata": {
        "id": "oaZrZfQq2HbD"
      }
    },
    {
      "cell_type": "markdown",
      "source": [
        "# **Key Concepts**"
      ],
      "metadata": {
        "id": "DpuKMIlMKXxh"
      }
    },
    {
      "cell_type": "markdown",
      "source": [
        "![BERTopic 1.jpg](data:image/jpeg;base64,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)"
      ],
      "metadata": {
        "id": "7LpMDPocOrxe"
      }
    },
    {
      "cell_type": "markdown",
      "source": [
        "## **Embeddings**"
      ],
      "metadata": {
        "id": "okF82oF2KfsD"
      }
    },
    {
      "cell_type": "markdown",
      "source": [
        "An embedding is a representation of words, phrases, sentences, or documents as vectors in a high-dimensional space. In NLP, words are typically represented as dense numerical vectors, where each dimension of the vector represents a different aspect or feature of the word.\n",
        "\n",
        "Word embeddings are learned from large corpora of text using techniques like Word2Vec, GloVe, or BERT. These techniques capture semantic relationships between words, such as similarity and context, by placing similar words closer together in the embedding space.\n",
        "\n",
        "Embeddings are crucial in NLP tasks because they allow machine learning models to process and understand textual data more effectively. They enable the models to leverage the semantic information encoded in the vectors to make accurate predictions or perform various tasks, such as text classification, named entity recognition, machine translation, and sentiment analysis."
      ],
      "metadata": {
        "id": "zFtz1hM4KlmL"
      }
    },
    {
      "cell_type": "markdown",
      "source": [
        "## **Dimension Reduction**"
      ],
      "metadata": {
        "id": "zczN71nqKmOd"
      }
    },
    {
      "cell_type": "markdown",
      "source": [
        "Dimension reduction is a technique used in machine learning and statistics to reduce the number of variables or features under consideration. **The goal of dimension reduction is to simplify the dataset while preserving important information.**\n",
        "\n",
        "There are several reasons why dimension reduction might be applied:\n",
        "\n",
        "Curse of Dimensionality: With an increase in the number of features, the volume of data space grows exponentially, leading to sparsity and computational inefficiency.\n",
        "\n",
        "Visualization: High-dimensional data is difficult to visualize directly. Dimension reduction techniques help in visualizing data in lower-dimensional space, such as 2D or 3D, while preserving its structure and relationships.\n",
        "\n",
        "Noise Reduction: Dimension reduction can help in removing noise and irrelevant features, which can improve the performance of machine learning models by focusing on the most important aspects of the data.\n",
        "\n",
        "**BERTopic uses UMAP (Uniform Manifold Approximation and Projection) for dimensionality reduction.**"
      ],
      "metadata": {
        "id": "Aa7r-ZHUOcbg"
      }
    },
    {
      "cell_type": "markdown",
      "source": [
        "## **UMAP**"
      ],
      "metadata": {
        "id": "s7B0_CugMzXO"
      }
    },
    {
      "cell_type": "markdown",
      "source": [
        "UMAP is a dimension reduction technique that is particularly effective for preserving local and global structure in high-dimensional data. It works by modeling the manifold of the data points and finding a low-dimensional representation that preserves the local structure of the data.\n",
        "\n",
        "In the context of BERTopic, UMAP is applied to the embeddings generated by BERT for the input documents. These embeddings capture semantic information about the documents, and UMAP reduces their dimensionality while retaining the relevant structure. This reduced-dimensional representation of the document embeddings is then used for clustering and topic modeling within BERTopic."
      ],
      "metadata": {
        "id": "3uUkyGomKm7K"
      }
    },
    {
      "cell_type": "markdown",
      "source": [
        "## **Cluster**"
      ],
      "metadata": {
        "id": "N6E5_coNKnJX"
      }
    },
    {
      "cell_type": "markdown",
      "source": [],
      "metadata": {
        "id": "xyEcuyRCKnXr"
      }
    },
    {
      "cell_type": "markdown",
      "source": [
        "## **HDBSCAN**"
      ],
      "metadata": {
        "id": "tiuq34nqMzmL"
      }
    },
    {
      "cell_type": "markdown",
      "source": [],
      "metadata": {
        "id": "AtaPwuhmP2hK"
      }
    },
    {
      "cell_type": "markdown",
      "source": [
        "## **Tokenization**"
      ],
      "metadata": {
        "id": "2WT72V-uNNeR"
      }
    },
    {
      "cell_type": "markdown",
      "source": [],
      "metadata": {
        "id": "POWdAmdoNNiU"
      }
    },
    {
      "cell_type": "markdown",
      "source": [
        "## **CountVectorizer**"
      ],
      "metadata": {
        "id": "A2iGH9UvP7lO"
      }
    },
    {
      "cell_type": "markdown",
      "source": [],
      "metadata": {
        "id": "YUWcegYeP7oo"
      }
    },
    {
      "cell_type": "markdown",
      "source": [
        "## **Weight tokens**"
      ],
      "metadata": {
        "id": "fgHRVdxYOI5X"
      }
    },
    {
      "cell_type": "markdown",
      "source": [],
      "metadata": {
        "id": "LAWCOA5eOIc4"
      }
    },
    {
      "cell_type": "markdown",
      "source": [
        "## **c-TF-IDF**"
      ],
      "metadata": {
        "id": "_I6aI0mTKz-S"
      }
    },
    {
      "cell_type": "markdown",
      "source": [],
      "metadata": {
        "id": "wPVQuksJK0I5"
      }
    },
    {
      "cell_type": "markdown",
      "source": [
        "## **Sentence-transformers**"
      ],
      "metadata": {
        "id": "LvNGumgJMuyq"
      }
    },
    {
      "cell_type": "markdown",
      "source": [],
      "metadata": {
        "id": "ETJeJC-rMzsf"
      }
    },
    {
      "cell_type": "markdown",
      "source": [
        "# **A Step-by-Step Case Study using BERTopic to Analyze XXX Dataset**"
      ],
      "metadata": {
        "id": "GWrz9R6rhhbc"
      }
    },
    {
      "cell_type": "markdown",
      "source": [
        "It is difficult to (mathematically) define **interpretability** (Molnar 2022). A (non-mathematical) definition of interpretability that I like by Miller (2017) is: Interpretability is the degree to which a human can understand the cause of a decision. Another one by Kim et al. (2016) is: Interpretability is the degree to which a human can consistently predict the model’s result.\n",
        "\n"
      ],
      "metadata": {
        "id": "mlyAz2zE_GFr"
      }
    },
    {
      "cell_type": "markdown",
      "source": [
        "## **Datasets**"
      ],
      "metadata": {
        "id": "PcyB49xM5Iu6"
      }
    },
    {
      "cell_type": "markdown",
      "source": [
        "Here we will use the **HF datasets** from the package to demonstrate.\n",
        "\n",
        "HF datasets refer to the datasets provided by the Hugging Face library (often abbreviated as \"HF\"). Hugging Face is a company specializing in natural language processing (NLP) and is known for its open-source library called Transformers, which provides various pre-trained models for NLP tasks.\n",
        "\n",
        "The \"HF datasets\" likely refer to datasets made available through the Hugging Face datasets library. This library offers a wide range of datasets for NLP tasks, including text classification, question answering, language modeling, and more. These datasets are commonly used for training and evaluating machine learning models, particularly those based on deep learning architectures like transformers.\n",
        "\n",
        "When installing BERTopic with the [all] option, it indicates that you want to install all additional dependencies, including those required for using Hugging Face datasets. This ensures that you have access to the datasets provided by Hugging Face, which can be useful for tasks such as topic modeling, text summarization, and sentiment analysis, among others."
      ],
      "metadata": {
        "id": "4eInwffK5JQ7"
      }
    },
    {
      "cell_type": "code",
      "source": [
        "#install BERTopic (with HF datasets)\n",
        "pip install bertopic datasets"
      ],
      "metadata": {
        "colab": {
          "base_uri": "https://localhost:8080/"
        },
        "id": "Z1U5xpc9IWiW",
        "outputId": "01046a5d-49ea-4471-9498-d12f233b14c2"
      },
      "execution_count": null,
      "outputs": [
        {
          "output_type": "stream",
          "name": "stdout",
          "text": [
            "Collecting bertopic\n",
            "  Downloading bertopic-0.16.0-py2.py3-none-any.whl (154 kB)\n",
            "\u001b[2K     \u001b[90m━━━━━━━━━━━━━━━━━━━━━━━━━━━━━━━━━━━━━━━━\u001b[0m \u001b[32m154.1/154.1 kB\u001b[0m \u001b[31m2.2 MB/s\u001b[0m eta \u001b[36m0:00:00\u001b[0m\n",
            "\u001b[?25hCollecting datasets\n",
            "  Downloading datasets-2.18.0-py3-none-any.whl (510 kB)\n",
            "\u001b[2K     \u001b[90m━━━━━━━━━━━━━━━━━━━━━━━━━━━━━━━━━━━━━━━━\u001b[0m \u001b[32m510.5/510.5 kB\u001b[0m \u001b[31m10.3 MB/s\u001b[0m eta \u001b[36m0:00:00\u001b[0m\n",
            "\u001b[?25hRequirement already satisfied: numpy>=1.20.0 in /usr/local/lib/python3.10/dist-packages (from bertopic) (1.25.2)\n",
            "Collecting hdbscan>=0.8.29 (from bertopic)\n",
            "  Downloading hdbscan-0.8.33.tar.gz (5.2 MB)\n",
            "\u001b[2K     \u001b[90m━━━━━━━━━━━━━━━━━━━━━━━━━━━━━━━━━━━━━━━━\u001b[0m \u001b[32m5.2/5.2 MB\u001b[0m \u001b[31m16.1 MB/s\u001b[0m eta \u001b[36m0:00:00\u001b[0m\n",
            "\u001b[?25h  Installing build dependencies ... \u001b[?25l\u001b[?25hdone\n",
            "  Getting requirements to build wheel ... \u001b[?25l\u001b[?25hdone\n",
            "  Preparing metadata (pyproject.toml) ... \u001b[?25l\u001b[?25hdone\n",
            "Collecting umap-learn>=0.5.0 (from bertopic)\n",
            "  Downloading umap_learn-0.5.6-py3-none-any.whl (85 kB)\n",
            "\u001b[2K     \u001b[90m━━━━━━━━━━━━━━━━━━━━━━━━━━━━━━━━━━━━━━━━\u001b[0m \u001b[32m85.7/85.7 kB\u001b[0m \u001b[31m10.5 MB/s\u001b[0m eta \u001b[36m0:00:00\u001b[0m\n",
            "\u001b[?25hRequirement already satisfied: pandas>=1.1.5 in /usr/local/lib/python3.10/dist-packages (from bertopic) (2.0.3)\n",
            "Requirement already satisfied: scikit-learn>=0.22.2.post1 in /usr/local/lib/python3.10/dist-packages (from bertopic) (1.2.2)\n",
            "Requirement already satisfied: tqdm>=4.41.1 in /usr/local/lib/python3.10/dist-packages (from bertopic) (4.66.2)\n",
            "Collecting sentence-transformers>=0.4.1 (from bertopic)\n",
            "  Downloading sentence_transformers-2.6.1-py3-none-any.whl (163 kB)\n",
            "\u001b[2K     \u001b[90m━━━━━━━━━━━━━━━━━━━━━━━━━━━━━━━━━━━━━━━━\u001b[0m \u001b[32m163.3/163.3 kB\u001b[0m \u001b[31m21.7 MB/s\u001b[0m eta \u001b[36m0:00:00\u001b[0m\n",
            "\u001b[?25hRequirement already satisfied: plotly>=4.7.0 in /usr/local/lib/python3.10/dist-packages (from bertopic) (5.15.0)\n",
            "Requirement already satisfied: filelock in /usr/local/lib/python3.10/dist-packages (from datasets) (3.13.4)\n",
            "Requirement already satisfied: pyarrow>=12.0.0 in /usr/local/lib/python3.10/dist-packages (from datasets) (14.0.2)\n",
            "Requirement already satisfied: pyarrow-hotfix in /usr/local/lib/python3.10/dist-packages (from datasets) (0.6)\n",
            "Collecting dill<0.3.9,>=0.3.0 (from datasets)\n",
            "  Downloading dill-0.3.8-py3-none-any.whl (116 kB)\n",
            "\u001b[2K     \u001b[90m━━━━━━━━━━━━━━━━━━━━━━━━━━━━━━━━━━━━━━━━\u001b[0m \u001b[32m116.3/116.3 kB\u001b[0m \u001b[31m15.2 MB/s\u001b[0m eta \u001b[36m0:00:00\u001b[0m\n",
            "\u001b[?25hRequirement already satisfied: requests>=2.19.0 in /usr/local/lib/python3.10/dist-packages (from datasets) (2.31.0)\n",
            "Collecting xxhash (from datasets)\n",
            "  Downloading xxhash-3.4.1-cp310-cp310-manylinux_2_17_x86_64.manylinux2014_x86_64.whl (194 kB)\n",
            "\u001b[2K     \u001b[90m━━━━━━━━━━━━━━━━━━━━━━━━━━━━━━━━━━━━━━━━\u001b[0m \u001b[32m194.1/194.1 kB\u001b[0m \u001b[31m25.5 MB/s\u001b[0m eta \u001b[36m0:00:00\u001b[0m\n",
            "\u001b[?25hCollecting multiprocess (from datasets)\n",
            "  Downloading multiprocess-0.70.16-py310-none-any.whl (134 kB)\n",
            "\u001b[2K     \u001b[90m━━━━━━━━━━━━━━━━━━━━━━━━━━━━━━━━━━━━━━━━\u001b[0m \u001b[32m134.8/134.8 kB\u001b[0m \u001b[31m15.4 MB/s\u001b[0m eta \u001b[36m0:00:00\u001b[0m\n",
            "\u001b[?25hRequirement already satisfied: fsspec[http]<=2024.2.0,>=2023.1.0 in /usr/local/lib/python3.10/dist-packages (from datasets) (2023.6.0)\n",
            "Requirement already satisfied: aiohttp in /usr/local/lib/python3.10/dist-packages (from datasets) (3.9.3)\n",
            "Requirement already satisfied: huggingface-hub>=0.19.4 in /usr/local/lib/python3.10/dist-packages (from datasets) (0.20.3)\n",
            "Requirement already satisfied: packaging in /usr/local/lib/python3.10/dist-packages (from datasets) (24.0)\n",
            "Requirement already satisfied: pyyaml>=5.1 in /usr/local/lib/python3.10/dist-packages (from datasets) (6.0.1)\n",
            "Requirement already satisfied: aiosignal>=1.1.2 in /usr/local/lib/python3.10/dist-packages (from aiohttp->datasets) (1.3.1)\n",
            "Requirement already satisfied: attrs>=17.3.0 in /usr/local/lib/python3.10/dist-packages (from aiohttp->datasets) (23.2.0)\n",
            "Requirement already satisfied: frozenlist>=1.1.1 in /usr/local/lib/python3.10/dist-packages (from aiohttp->datasets) (1.4.1)\n",
            "Requirement already satisfied: multidict<7.0,>=4.5 in /usr/local/lib/python3.10/dist-packages (from aiohttp->datasets) (6.0.5)\n",
            "Requirement already satisfied: yarl<2.0,>=1.0 in /usr/local/lib/python3.10/dist-packages (from aiohttp->datasets) (1.9.4)\n",
            "Requirement already satisfied: async-timeout<5.0,>=4.0 in /usr/local/lib/python3.10/dist-packages (from aiohttp->datasets) (4.0.3)\n",
            "Collecting cython<3,>=0.27 (from hdbscan>=0.8.29->bertopic)\n",
            "  Using cached Cython-0.29.37-cp310-cp310-manylinux_2_17_x86_64.manylinux2014_x86_64.manylinux_2_24_x86_64.whl (1.9 MB)\n",
            "Requirement already satisfied: scipy>=1.0 in /usr/local/lib/python3.10/dist-packages (from hdbscan>=0.8.29->bertopic) (1.11.4)\n",
            "Requirement already satisfied: joblib>=1.0 in /usr/local/lib/python3.10/dist-packages (from hdbscan>=0.8.29->bertopic) (1.4.0)\n",
            "Requirement already satisfied: typing-extensions>=3.7.4.3 in /usr/local/lib/python3.10/dist-packages (from huggingface-hub>=0.19.4->datasets) (4.11.0)\n",
            "Requirement already satisfied: python-dateutil>=2.8.2 in /usr/local/lib/python3.10/dist-packages (from pandas>=1.1.5->bertopic) (2.8.2)\n",
            "Requirement already satisfied: pytz>=2020.1 in /usr/local/lib/python3.10/dist-packages (from pandas>=1.1.5->bertopic) (2023.4)\n",
            "Requirement already satisfied: tzdata>=2022.1 in /usr/local/lib/python3.10/dist-packages (from pandas>=1.1.5->bertopic) (2024.1)\n",
            "Requirement already satisfied: tenacity>=6.2.0 in /usr/local/lib/python3.10/dist-packages (from plotly>=4.7.0->bertopic) (8.2.3)\n",
            "Requirement already satisfied: charset-normalizer<4,>=2 in /usr/local/lib/python3.10/dist-packages (from requests>=2.19.0->datasets) (3.3.2)\n",
            "Requirement already satisfied: idna<4,>=2.5 in /usr/local/lib/python3.10/dist-packages (from requests>=2.19.0->datasets) (3.6)\n",
            "Requirement already satisfied: urllib3<3,>=1.21.1 in /usr/local/lib/python3.10/dist-packages (from requests>=2.19.0->datasets) (2.0.7)\n",
            "Requirement already satisfied: certifi>=2017.4.17 in /usr/local/lib/python3.10/dist-packages (from requests>=2.19.0->datasets) (2024.2.2)\n",
            "Requirement already satisfied: threadpoolctl>=2.0.0 in /usr/local/lib/python3.10/dist-packages (from scikit-learn>=0.22.2.post1->bertopic) (3.4.0)\n",
            "Requirement already satisfied: transformers<5.0.0,>=4.32.0 in /usr/local/lib/python3.10/dist-packages (from sentence-transformers>=0.4.1->bertopic) (4.38.2)\n",
            "Requirement already satisfied: torch>=1.11.0 in /usr/local/lib/python3.10/dist-packages (from sentence-transformers>=0.4.1->bertopic) (2.2.1+cu121)\n",
            "Requirement already satisfied: Pillow in /usr/local/lib/python3.10/dist-packages (from sentence-transformers>=0.4.1->bertopic) (9.4.0)\n",
            "Requirement already satisfied: numba>=0.51.2 in /usr/local/lib/python3.10/dist-packages (from umap-learn>=0.5.0->bertopic) (0.58.1)\n",
            "Collecting pynndescent>=0.5 (from umap-learn>=0.5.0->bertopic)\n",
            "  Downloading pynndescent-0.5.12-py3-none-any.whl (56 kB)\n",
            "\u001b[2K     \u001b[90m━━━━━━━━━━━━━━━━━━━━━━━━━━━━━━━━━━━━━━━━\u001b[0m \u001b[32m56.8/56.8 kB\u001b[0m \u001b[31m8.7 MB/s\u001b[0m eta \u001b[36m0:00:00\u001b[0m\n",
            "\u001b[?25hRequirement already satisfied: llvmlite<0.42,>=0.41.0dev0 in /usr/local/lib/python3.10/dist-packages (from numba>=0.51.2->umap-learn>=0.5.0->bertopic) (0.41.1)\n",
            "Requirement already satisfied: six>=1.5 in /usr/local/lib/python3.10/dist-packages (from python-dateutil>=2.8.2->pandas>=1.1.5->bertopic) (1.16.0)\n",
            "Requirement already satisfied: sympy in /usr/local/lib/python3.10/dist-packages (from torch>=1.11.0->sentence-transformers>=0.4.1->bertopic) (1.12)\n",
            "Requirement already satisfied: networkx in /usr/local/lib/python3.10/dist-packages (from torch>=1.11.0->sentence-transformers>=0.4.1->bertopic) (3.3)\n",
            "Requirement already satisfied: jinja2 in /usr/local/lib/python3.10/dist-packages (from torch>=1.11.0->sentence-transformers>=0.4.1->bertopic) (3.1.3)\n",
            "Collecting nvidia-cuda-nvrtc-cu12==12.1.105 (from torch>=1.11.0->sentence-transformers>=0.4.1->bertopic)\n",
            "  Using cached nvidia_cuda_nvrtc_cu12-12.1.105-py3-none-manylinux1_x86_64.whl (23.7 MB)\n",
            "Collecting nvidia-cuda-runtime-cu12==12.1.105 (from torch>=1.11.0->sentence-transformers>=0.4.1->bertopic)\n",
            "  Using cached nvidia_cuda_runtime_cu12-12.1.105-py3-none-manylinux1_x86_64.whl (823 kB)\n",
            "Collecting nvidia-cuda-cupti-cu12==12.1.105 (from torch>=1.11.0->sentence-transformers>=0.4.1->bertopic)\n",
            "  Using cached nvidia_cuda_cupti_cu12-12.1.105-py3-none-manylinux1_x86_64.whl (14.1 MB)\n",
            "Collecting nvidia-cudnn-cu12==8.9.2.26 (from torch>=1.11.0->sentence-transformers>=0.4.1->bertopic)\n",
            "  Using cached nvidia_cudnn_cu12-8.9.2.26-py3-none-manylinux1_x86_64.whl (731.7 MB)\n",
            "Collecting nvidia-cublas-cu12==12.1.3.1 (from torch>=1.11.0->sentence-transformers>=0.4.1->bertopic)\n",
            "  Using cached nvidia_cublas_cu12-12.1.3.1-py3-none-manylinux1_x86_64.whl (410.6 MB)\n",
            "Collecting nvidia-cufft-cu12==11.0.2.54 (from torch>=1.11.0->sentence-transformers>=0.4.1->bertopic)\n",
            "  Using cached nvidia_cufft_cu12-11.0.2.54-py3-none-manylinux1_x86_64.whl (121.6 MB)\n",
            "Collecting nvidia-curand-cu12==10.3.2.106 (from torch>=1.11.0->sentence-transformers>=0.4.1->bertopic)\n",
            "  Using cached nvidia_curand_cu12-10.3.2.106-py3-none-manylinux1_x86_64.whl (56.5 MB)\n",
            "Collecting nvidia-cusolver-cu12==11.4.5.107 (from torch>=1.11.0->sentence-transformers>=0.4.1->bertopic)\n",
            "  Using cached nvidia_cusolver_cu12-11.4.5.107-py3-none-manylinux1_x86_64.whl (124.2 MB)\n",
            "Collecting nvidia-cusparse-cu12==12.1.0.106 (from torch>=1.11.0->sentence-transformers>=0.4.1->bertopic)\n",
            "  Using cached nvidia_cusparse_cu12-12.1.0.106-py3-none-manylinux1_x86_64.whl (196.0 MB)\n",
            "Collecting nvidia-nccl-cu12==2.19.3 (from torch>=1.11.0->sentence-transformers>=0.4.1->bertopic)\n",
            "  Using cached nvidia_nccl_cu12-2.19.3-py3-none-manylinux1_x86_64.whl (166.0 MB)\n",
            "Collecting nvidia-nvtx-cu12==12.1.105 (from torch>=1.11.0->sentence-transformers>=0.4.1->bertopic)\n",
            "  Using cached nvidia_nvtx_cu12-12.1.105-py3-none-manylinux1_x86_64.whl (99 kB)\n",
            "Requirement already satisfied: triton==2.2.0 in /usr/local/lib/python3.10/dist-packages (from torch>=1.11.0->sentence-transformers>=0.4.1->bertopic) (2.2.0)\n",
            "Collecting nvidia-nvjitlink-cu12 (from nvidia-cusolver-cu12==11.4.5.107->torch>=1.11.0->sentence-transformers>=0.4.1->bertopic)\n",
            "  Using cached nvidia_nvjitlink_cu12-12.4.127-py3-none-manylinux2014_x86_64.whl (21.1 MB)\n",
            "Requirement already satisfied: regex!=2019.12.17 in /usr/local/lib/python3.10/dist-packages (from transformers<5.0.0,>=4.32.0->sentence-transformers>=0.4.1->bertopic) (2023.12.25)\n",
            "Requirement already satisfied: tokenizers<0.19,>=0.14 in /usr/local/lib/python3.10/dist-packages (from transformers<5.0.0,>=4.32.0->sentence-transformers>=0.4.1->bertopic) (0.15.2)\n",
            "Requirement already satisfied: safetensors>=0.4.1 in /usr/local/lib/python3.10/dist-packages (from transformers<5.0.0,>=4.32.0->sentence-transformers>=0.4.1->bertopic) (0.4.2)\n",
            "Requirement already satisfied: MarkupSafe>=2.0 in /usr/local/lib/python3.10/dist-packages (from jinja2->torch>=1.11.0->sentence-transformers>=0.4.1->bertopic) (2.1.5)\n",
            "Requirement already satisfied: mpmath>=0.19 in /usr/local/lib/python3.10/dist-packages (from sympy->torch>=1.11.0->sentence-transformers>=0.4.1->bertopic) (1.3.0)\n",
            "Building wheels for collected packages: hdbscan\n",
            "  Building wheel for hdbscan (pyproject.toml) ... \u001b[?25l\u001b[?25hdone\n",
            "  Created wheel for hdbscan: filename=hdbscan-0.8.33-cp310-cp310-linux_x86_64.whl size=3039283 sha256=ec8dff4713280eaad8acbe020e9ead879543c389c243bf9af5b2188f30d1e821\n",
            "  Stored in directory: /root/.cache/pip/wheels/75/0b/3b/dc4f60b7cc455efaefb62883a7483e76f09d06ca81cf87d610\n",
            "Successfully built hdbscan\n",
            "Installing collected packages: xxhash, nvidia-nvtx-cu12, nvidia-nvjitlink-cu12, nvidia-nccl-cu12, nvidia-curand-cu12, nvidia-cufft-cu12, nvidia-cuda-runtime-cu12, nvidia-cuda-nvrtc-cu12, nvidia-cuda-cupti-cu12, nvidia-cublas-cu12, dill, cython, nvidia-cusparse-cu12, nvidia-cudnn-cu12, multiprocess, pynndescent, nvidia-cusolver-cu12, hdbscan, umap-learn, datasets, sentence-transformers, bertopic\n",
            "  Attempting uninstall: cython\n",
            "    Found existing installation: Cython 3.0.10\n",
            "    Uninstalling Cython-3.0.10:\n",
            "      Successfully uninstalled Cython-3.0.10\n",
            "Successfully installed bertopic-0.16.0 cython-0.29.37 datasets-2.18.0 dill-0.3.8 hdbscan-0.8.33 multiprocess-0.70.16 nvidia-cublas-cu12-12.1.3.1 nvidia-cuda-cupti-cu12-12.1.105 nvidia-cuda-nvrtc-cu12-12.1.105 nvidia-cuda-runtime-cu12-12.1.105 nvidia-cudnn-cu12-8.9.2.26 nvidia-cufft-cu12-11.0.2.54 nvidia-curand-cu12-10.3.2.106 nvidia-cusolver-cu12-11.4.5.107 nvidia-cusparse-cu12-12.1.0.106 nvidia-nccl-cu12-2.19.3 nvidia-nvjitlink-cu12-12.4.127 nvidia-nvtx-cu12-12.1.105 pynndescent-0.5.12 sentence-transformers-2.6.1 umap-learn-0.5.6 xxhash-3.4.1\n"
          ]
        }
      ]
    },
    {
      "cell_type": "markdown",
      "source": [
        "**arXiv Dataset - arXiv dataset and metadata of 1.7M+ scholarly papers across STEM**\n",
        "\n",
        "For nearly 30 years, ArXiv has served the public and research communities by providing open access to scholarly articles, from the vast branches of physics to the many subdisciplines of computer science to everything in between, including math, statistics, electrical engineering, quantitative biology, and economics. This rich corpus of information offers significant, but sometimes overwhelming depth.\n",
        "\n",
        "In these times of unique global challenges, efficient extraction of insights from data is essential. To help make the arXiv more accessible, a free, open pipeline has been presented on Kaggle to the machine-readable arXiv dataset: a repository of 1.7 million articles, with relevant features such as article titles, authors, categories, abstracts, full text PDFs, and more.\n",
        "\n",
        "The hope is to empower new use cases that can lead to the exploration of richer machine learning techniques that combine multi-modal features towards applications like trend analysis, paper recommender engines, category prediction, co-citation networks, knowledge graph construction and semantic search interfaces.\n",
        "\n",
        "The dataset is freely available via Google Cloud Storage buckets with weekly updates to the dataset!\n",
        "\n",
        "ArXiv is a collaboratively funded, community-supported resource founded by Paul Ginsparg in 1991 and maintained and operated by Cornell University.\n",
        "\n",
        "The release of this dataset was featured further in a Kaggle blog post here:https://www.kaggle.com/datasets/Cornell-University/arxiv?resource=download\n",
        "\n",
        "Metadata\n",
        "This dataset is a mirror of the original ArXiv data. Because the full dataset is rather large (1.1TB and growing), this dataset provides only a metadata file in the json format. This file contains an entry for each paper, containing:\n",
        "\n",
        "id: ArXiv ID (can be used to access the paper, see below)\n",
        "submitter: Who submitted the paper\n",
        "authors: Authors of the paper\n",
        "title: Title of the paper\n",
        "comments: Additional info, such as number of pages and figures\n",
        "journal-ref: Information about the journal the paper was published in\n",
        "doi: [https://www.doi.org](Digital Object Identifier)\n",
        "abstract: The abstract of the paper\n",
        "categories: Categories / tags in the ArXiv system\n",
        "versions: A version history\n",
        "You can access each paper directly on ArXiv using these links:\n",
        "https://arxiv.org/abs/{id}: Page for this paper including its abstract and further links\n",
        "https://arxiv.org/pdf/{id}: Direct link to download the PDF\n",
        "Bulk access\n",
        "The full set of PDFs is available for free in the GCS bucket gs://arxiv-dataset or through Google API (json documentation and xml documentation).\n",
        "\n",
        "License\n",
        "Creative Commons CC0 1.0 Universal Public Domain Dedication applies to the metadata in this dataset. See https://arxiv.org/help/license for further details and licensing on individual papers.\n",
        "\n",
        "Acknowledgements\n",
        "The original data is maintained by ArXiv, huge thanks to the team for building and maintaining this dataset.\n",
        "\n",
        "**We're using https://github.com/mattbierbaum/arxiv-public-datasets to pull the original data, thanks to Matt Bierbaum for providing this tool.**\n",
        "\n",
        "\n"
      ],
      "metadata": {
        "id": "KLSpxHHOBB28"
      }
    },
    {
      "cell_type": "markdown",
      "source": [
        "## **Install**"
      ],
      "metadata": {
        "id": "A-dm4BzX0Fje"
      }
    },
    {
      "cell_type": "code",
      "execution_count": null,
      "metadata": {
        "id": "FmbdPHt-hVcK",
        "colab": {
          "base_uri": "https://localhost:8080/"
        },
        "outputId": "85543c54-b14f-4877-a2f8-8daa83192fdf"
      },
      "outputs": [
        {
          "output_type": "stream",
          "name": "stdout",
          "text": [
            "Requirement already satisfied: bertopic in /usr/local/lib/python3.10/dist-packages (0.16.0)\n",
            "Requirement already satisfied: numpy>=1.20.0 in /usr/local/lib/python3.10/dist-packages (from bertopic) (1.25.2)\n",
            "Requirement already satisfied: hdbscan>=0.8.29 in /usr/local/lib/python3.10/dist-packages (from bertopic) (0.8.33)\n",
            "Requirement already satisfied: umap-learn>=0.5.0 in /usr/local/lib/python3.10/dist-packages (from bertopic) (0.5.6)\n",
            "Requirement already satisfied: pandas>=1.1.5 in /usr/local/lib/python3.10/dist-packages (from bertopic) (2.0.3)\n",
            "Requirement already satisfied: scikit-learn>=0.22.2.post1 in /usr/local/lib/python3.10/dist-packages (from bertopic) (1.2.2)\n",
            "Requirement already satisfied: tqdm>=4.41.1 in /usr/local/lib/python3.10/dist-packages (from bertopic) (4.66.2)\n",
            "Requirement already satisfied: sentence-transformers>=0.4.1 in /usr/local/lib/python3.10/dist-packages (from bertopic) (2.6.1)\n",
            "Requirement already satisfied: plotly>=4.7.0 in /usr/local/lib/python3.10/dist-packages (from bertopic) (5.15.0)\n",
            "Requirement already satisfied: cython<3,>=0.27 in /usr/local/lib/python3.10/dist-packages (from hdbscan>=0.8.29->bertopic) (0.29.37)\n",
            "Requirement already satisfied: scipy>=1.0 in /usr/local/lib/python3.10/dist-packages (from hdbscan>=0.8.29->bertopic) (1.11.4)\n",
            "Requirement already satisfied: joblib>=1.0 in /usr/local/lib/python3.10/dist-packages (from hdbscan>=0.8.29->bertopic) (1.4.0)\n",
            "Requirement already satisfied: python-dateutil>=2.8.2 in /usr/local/lib/python3.10/dist-packages (from pandas>=1.1.5->bertopic) (2.8.2)\n",
            "Requirement already satisfied: pytz>=2020.1 in /usr/local/lib/python3.10/dist-packages (from pandas>=1.1.5->bertopic) (2023.4)\n",
            "Requirement already satisfied: tzdata>=2022.1 in /usr/local/lib/python3.10/dist-packages (from pandas>=1.1.5->bertopic) (2024.1)\n",
            "Requirement already satisfied: tenacity>=6.2.0 in /usr/local/lib/python3.10/dist-packages (from plotly>=4.7.0->bertopic) (8.2.3)\n",
            "Requirement already satisfied: packaging in /usr/local/lib/python3.10/dist-packages (from plotly>=4.7.0->bertopic) (24.0)\n",
            "Requirement already satisfied: threadpoolctl>=2.0.0 in /usr/local/lib/python3.10/dist-packages (from scikit-learn>=0.22.2.post1->bertopic) (3.4.0)\n",
            "Requirement already satisfied: transformers<5.0.0,>=4.32.0 in /usr/local/lib/python3.10/dist-packages (from sentence-transformers>=0.4.1->bertopic) (4.38.2)\n",
            "Requirement already satisfied: torch>=1.11.0 in /usr/local/lib/python3.10/dist-packages (from sentence-transformers>=0.4.1->bertopic) (2.2.1+cu121)\n",
            "Requirement already satisfied: huggingface-hub>=0.15.1 in /usr/local/lib/python3.10/dist-packages (from sentence-transformers>=0.4.1->bertopic) (0.20.3)\n",
            "Requirement already satisfied: Pillow in /usr/local/lib/python3.10/dist-packages (from sentence-transformers>=0.4.1->bertopic) (9.4.0)\n",
            "Requirement already satisfied: numba>=0.51.2 in /usr/local/lib/python3.10/dist-packages (from umap-learn>=0.5.0->bertopic) (0.58.1)\n",
            "Requirement already satisfied: pynndescent>=0.5 in /usr/local/lib/python3.10/dist-packages (from umap-learn>=0.5.0->bertopic) (0.5.12)\n",
            "Requirement already satisfied: filelock in /usr/local/lib/python3.10/dist-packages (from huggingface-hub>=0.15.1->sentence-transformers>=0.4.1->bertopic) (3.13.4)\n",
            "Requirement already satisfied: fsspec>=2023.5.0 in /usr/local/lib/python3.10/dist-packages (from huggingface-hub>=0.15.1->sentence-transformers>=0.4.1->bertopic) (2023.6.0)\n",
            "Requirement already satisfied: requests in /usr/local/lib/python3.10/dist-packages (from huggingface-hub>=0.15.1->sentence-transformers>=0.4.1->bertopic) (2.31.0)\n",
            "Requirement already satisfied: pyyaml>=5.1 in /usr/local/lib/python3.10/dist-packages (from huggingface-hub>=0.15.1->sentence-transformers>=0.4.1->bertopic) (6.0.1)\n",
            "Requirement already satisfied: typing-extensions>=3.7.4.3 in /usr/local/lib/python3.10/dist-packages (from huggingface-hub>=0.15.1->sentence-transformers>=0.4.1->bertopic) (4.11.0)\n",
            "Requirement already satisfied: llvmlite<0.42,>=0.41.0dev0 in /usr/local/lib/python3.10/dist-packages (from numba>=0.51.2->umap-learn>=0.5.0->bertopic) (0.41.1)\n",
            "Requirement already satisfied: six>=1.5 in /usr/local/lib/python3.10/dist-packages (from python-dateutil>=2.8.2->pandas>=1.1.5->bertopic) (1.16.0)\n",
            "Requirement already satisfied: sympy in /usr/local/lib/python3.10/dist-packages (from torch>=1.11.0->sentence-transformers>=0.4.1->bertopic) (1.12)\n",
            "Requirement already satisfied: networkx in /usr/local/lib/python3.10/dist-packages (from torch>=1.11.0->sentence-transformers>=0.4.1->bertopic) (3.3)\n",
            "Requirement already satisfied: jinja2 in /usr/local/lib/python3.10/dist-packages (from torch>=1.11.0->sentence-transformers>=0.4.1->bertopic) (3.1.3)\n",
            "Requirement already satisfied: nvidia-cuda-nvrtc-cu12==12.1.105 in /usr/local/lib/python3.10/dist-packages (from torch>=1.11.0->sentence-transformers>=0.4.1->bertopic) (12.1.105)\n",
            "Requirement already satisfied: nvidia-cuda-runtime-cu12==12.1.105 in /usr/local/lib/python3.10/dist-packages (from torch>=1.11.0->sentence-transformers>=0.4.1->bertopic) (12.1.105)\n",
            "Requirement already satisfied: nvidia-cuda-cupti-cu12==12.1.105 in /usr/local/lib/python3.10/dist-packages (from torch>=1.11.0->sentence-transformers>=0.4.1->bertopic) (12.1.105)\n",
            "Requirement already satisfied: nvidia-cudnn-cu12==8.9.2.26 in /usr/local/lib/python3.10/dist-packages (from torch>=1.11.0->sentence-transformers>=0.4.1->bertopic) (8.9.2.26)\n",
            "Requirement already satisfied: nvidia-cublas-cu12==12.1.3.1 in /usr/local/lib/python3.10/dist-packages (from torch>=1.11.0->sentence-transformers>=0.4.1->bertopic) (12.1.3.1)\n",
            "Requirement already satisfied: nvidia-cufft-cu12==11.0.2.54 in /usr/local/lib/python3.10/dist-packages (from torch>=1.11.0->sentence-transformers>=0.4.1->bertopic) (11.0.2.54)\n",
            "Requirement already satisfied: nvidia-curand-cu12==10.3.2.106 in /usr/local/lib/python3.10/dist-packages (from torch>=1.11.0->sentence-transformers>=0.4.1->bertopic) (10.3.2.106)\n",
            "Requirement already satisfied: nvidia-cusolver-cu12==11.4.5.107 in /usr/local/lib/python3.10/dist-packages (from torch>=1.11.0->sentence-transformers>=0.4.1->bertopic) (11.4.5.107)\n",
            "Requirement already satisfied: nvidia-cusparse-cu12==12.1.0.106 in /usr/local/lib/python3.10/dist-packages (from torch>=1.11.0->sentence-transformers>=0.4.1->bertopic) (12.1.0.106)\n",
            "Requirement already satisfied: nvidia-nccl-cu12==2.19.3 in /usr/local/lib/python3.10/dist-packages (from torch>=1.11.0->sentence-transformers>=0.4.1->bertopic) (2.19.3)\n",
            "Requirement already satisfied: nvidia-nvtx-cu12==12.1.105 in /usr/local/lib/python3.10/dist-packages (from torch>=1.11.0->sentence-transformers>=0.4.1->bertopic) (12.1.105)\n",
            "Requirement already satisfied: triton==2.2.0 in /usr/local/lib/python3.10/dist-packages (from torch>=1.11.0->sentence-transformers>=0.4.1->bertopic) (2.2.0)\n",
            "Requirement already satisfied: nvidia-nvjitlink-cu12 in /usr/local/lib/python3.10/dist-packages (from nvidia-cusolver-cu12==11.4.5.107->torch>=1.11.0->sentence-transformers>=0.4.1->bertopic) (12.4.127)\n",
            "Requirement already satisfied: regex!=2019.12.17 in /usr/local/lib/python3.10/dist-packages (from transformers<5.0.0,>=4.32.0->sentence-transformers>=0.4.1->bertopic) (2023.12.25)\n",
            "Requirement already satisfied: tokenizers<0.19,>=0.14 in /usr/local/lib/python3.10/dist-packages (from transformers<5.0.0,>=4.32.0->sentence-transformers>=0.4.1->bertopic) (0.15.2)\n",
            "Requirement already satisfied: safetensors>=0.4.1 in /usr/local/lib/python3.10/dist-packages (from transformers<5.0.0,>=4.32.0->sentence-transformers>=0.4.1->bertopic) (0.4.2)\n",
            "Requirement already satisfied: MarkupSafe>=2.0 in /usr/local/lib/python3.10/dist-packages (from jinja2->torch>=1.11.0->sentence-transformers>=0.4.1->bertopic) (2.1.5)\n",
            "Requirement already satisfied: charset-normalizer<4,>=2 in /usr/local/lib/python3.10/dist-packages (from requests->huggingface-hub>=0.15.1->sentence-transformers>=0.4.1->bertopic) (3.3.2)\n",
            "Requirement already satisfied: idna<4,>=2.5 in /usr/local/lib/python3.10/dist-packages (from requests->huggingface-hub>=0.15.1->sentence-transformers>=0.4.1->bertopic) (3.6)\n",
            "Requirement already satisfied: urllib3<3,>=1.21.1 in /usr/local/lib/python3.10/dist-packages (from requests->huggingface-hub>=0.15.1->sentence-transformers>=0.4.1->bertopic) (2.0.7)\n",
            "Requirement already satisfied: certifi>=2017.4.17 in /usr/local/lib/python3.10/dist-packages (from requests->huggingface-hub>=0.15.1->sentence-transformers>=0.4.1->bertopic) (2024.2.2)\n",
            "Requirement already satisfied: mpmath>=0.19 in /usr/local/lib/python3.10/dist-packages (from sympy->torch>=1.11.0->sentence-transformers>=0.4.1->bertopic) (1.3.0)\n"
          ]
        }
      ],
      "source": [
        "#install BERTopic\n",
        "pip install bertopic"
      ]
    },
    {
      "cell_type": "code",
      "source": [
        "pip install -U \"tensorflow-text==2.15.*\""
      ],
      "metadata": {
        "id": "qiu0OnchoPyC",
        "colab": {
          "base_uri": "https://localhost:8080/"
        },
        "outputId": "44b2e2e0-497f-4f90-b326-22661ab91023"
      },
      "execution_count": null,
      "outputs": [
        {
          "output_type": "stream",
          "name": "stdout",
          "text": [
            "Collecting tensorflow-text==2.15.*\n",
            "  Downloading tensorflow_text-2.15.0-cp310-cp310-manylinux_2_17_x86_64.manylinux2014_x86_64.whl (5.2 MB)\n",
            "\u001b[2K     \u001b[90m━━━━━━━━━━━━━━━━━━━━━━━━━━━━━━━━━━━━━━━━\u001b[0m \u001b[32m5.2/5.2 MB\u001b[0m \u001b[31m13.3 MB/s\u001b[0m eta \u001b[36m0:00:00\u001b[0m\n",
            "\u001b[?25hRequirement already satisfied: tensorflow-hub>=0.13.0 in /usr/local/lib/python3.10/dist-packages (from tensorflow-text==2.15.*) (0.16.1)\n",
            "Requirement already satisfied: tensorflow<2.16,>=2.15.0 in /usr/local/lib/python3.10/dist-packages (from tensorflow-text==2.15.*) (2.15.0)\n",
            "Requirement already satisfied: absl-py>=1.0.0 in /usr/local/lib/python3.10/dist-packages (from tensorflow<2.16,>=2.15.0->tensorflow-text==2.15.*) (1.4.0)\n",
            "Requirement already satisfied: astunparse>=1.6.0 in /usr/local/lib/python3.10/dist-packages (from tensorflow<2.16,>=2.15.0->tensorflow-text==2.15.*) (1.6.3)\n",
            "Requirement already satisfied: flatbuffers>=23.5.26 in /usr/local/lib/python3.10/dist-packages (from tensorflow<2.16,>=2.15.0->tensorflow-text==2.15.*) (24.3.25)\n",
            "Requirement already satisfied: gast!=0.5.0,!=0.5.1,!=0.5.2,>=0.2.1 in /usr/local/lib/python3.10/dist-packages (from tensorflow<2.16,>=2.15.0->tensorflow-text==2.15.*) (0.5.4)\n",
            "Requirement already satisfied: google-pasta>=0.1.1 in /usr/local/lib/python3.10/dist-packages (from tensorflow<2.16,>=2.15.0->tensorflow-text==2.15.*) (0.2.0)\n",
            "Requirement already satisfied: h5py>=2.9.0 in /usr/local/lib/python3.10/dist-packages (from tensorflow<2.16,>=2.15.0->tensorflow-text==2.15.*) (3.9.0)\n",
            "Requirement already satisfied: libclang>=13.0.0 in /usr/local/lib/python3.10/dist-packages (from tensorflow<2.16,>=2.15.0->tensorflow-text==2.15.*) (18.1.1)\n",
            "Requirement already satisfied: ml-dtypes~=0.2.0 in /usr/local/lib/python3.10/dist-packages (from tensorflow<2.16,>=2.15.0->tensorflow-text==2.15.*) (0.2.0)\n",
            "Requirement already satisfied: numpy<2.0.0,>=1.23.5 in /usr/local/lib/python3.10/dist-packages (from tensorflow<2.16,>=2.15.0->tensorflow-text==2.15.*) (1.25.2)\n",
            "Requirement already satisfied: opt-einsum>=2.3.2 in /usr/local/lib/python3.10/dist-packages (from tensorflow<2.16,>=2.15.0->tensorflow-text==2.15.*) (3.3.0)\n",
            "Requirement already satisfied: packaging in /usr/local/lib/python3.10/dist-packages (from tensorflow<2.16,>=2.15.0->tensorflow-text==2.15.*) (24.0)\n",
            "Requirement already satisfied: protobuf!=4.21.0,!=4.21.1,!=4.21.2,!=4.21.3,!=4.21.4,!=4.21.5,<5.0.0dev,>=3.20.3 in /usr/local/lib/python3.10/dist-packages (from tensorflow<2.16,>=2.15.0->tensorflow-text==2.15.*) (3.20.3)\n",
            "Requirement already satisfied: setuptools in /usr/local/lib/python3.10/dist-packages (from tensorflow<2.16,>=2.15.0->tensorflow-text==2.15.*) (67.7.2)\n",
            "Requirement already satisfied: six>=1.12.0 in /usr/local/lib/python3.10/dist-packages (from tensorflow<2.16,>=2.15.0->tensorflow-text==2.15.*) (1.16.0)\n",
            "Requirement already satisfied: termcolor>=1.1.0 in /usr/local/lib/python3.10/dist-packages (from tensorflow<2.16,>=2.15.0->tensorflow-text==2.15.*) (2.4.0)\n",
            "Requirement already satisfied: typing-extensions>=3.6.6 in /usr/local/lib/python3.10/dist-packages (from tensorflow<2.16,>=2.15.0->tensorflow-text==2.15.*) (4.11.0)\n",
            "Requirement already satisfied: wrapt<1.15,>=1.11.0 in /usr/local/lib/python3.10/dist-packages (from tensorflow<2.16,>=2.15.0->tensorflow-text==2.15.*) (1.14.1)\n",
            "Requirement already satisfied: tensorflow-io-gcs-filesystem>=0.23.1 in /usr/local/lib/python3.10/dist-packages (from tensorflow<2.16,>=2.15.0->tensorflow-text==2.15.*) (0.36.0)\n",
            "Requirement already satisfied: grpcio<2.0,>=1.24.3 in /usr/local/lib/python3.10/dist-packages (from tensorflow<2.16,>=2.15.0->tensorflow-text==2.15.*) (1.62.1)\n",
            "Requirement already satisfied: tensorboard<2.16,>=2.15 in /usr/local/lib/python3.10/dist-packages (from tensorflow<2.16,>=2.15.0->tensorflow-text==2.15.*) (2.15.2)\n",
            "Requirement already satisfied: tensorflow-estimator<2.16,>=2.15.0 in /usr/local/lib/python3.10/dist-packages (from tensorflow<2.16,>=2.15.0->tensorflow-text==2.15.*) (2.15.0)\n",
            "Requirement already satisfied: keras<2.16,>=2.15.0 in /usr/local/lib/python3.10/dist-packages (from tensorflow<2.16,>=2.15.0->tensorflow-text==2.15.*) (2.15.0)\n",
            "Requirement already satisfied: tf-keras>=2.14.1 in /usr/local/lib/python3.10/dist-packages (from tensorflow-hub>=0.13.0->tensorflow-text==2.15.*) (2.15.1)\n",
            "Requirement already satisfied: wheel<1.0,>=0.23.0 in /usr/local/lib/python3.10/dist-packages (from astunparse>=1.6.0->tensorflow<2.16,>=2.15.0->tensorflow-text==2.15.*) (0.43.0)\n",
            "Requirement already satisfied: google-auth<3,>=1.6.3 in /usr/local/lib/python3.10/dist-packages (from tensorboard<2.16,>=2.15->tensorflow<2.16,>=2.15.0->tensorflow-text==2.15.*) (2.27.0)\n",
            "Requirement already satisfied: google-auth-oauthlib<2,>=0.5 in /usr/local/lib/python3.10/dist-packages (from tensorboard<2.16,>=2.15->tensorflow<2.16,>=2.15.0->tensorflow-text==2.15.*) (1.2.0)\n",
            "Requirement already satisfied: markdown>=2.6.8 in /usr/local/lib/python3.10/dist-packages (from tensorboard<2.16,>=2.15->tensorflow<2.16,>=2.15.0->tensorflow-text==2.15.*) (3.6)\n",
            "Requirement already satisfied: requests<3,>=2.21.0 in /usr/local/lib/python3.10/dist-packages (from tensorboard<2.16,>=2.15->tensorflow<2.16,>=2.15.0->tensorflow-text==2.15.*) (2.31.0)\n",
            "Requirement already satisfied: tensorboard-data-server<0.8.0,>=0.7.0 in /usr/local/lib/python3.10/dist-packages (from tensorboard<2.16,>=2.15->tensorflow<2.16,>=2.15.0->tensorflow-text==2.15.*) (0.7.2)\n",
            "Requirement already satisfied: werkzeug>=1.0.1 in /usr/local/lib/python3.10/dist-packages (from tensorboard<2.16,>=2.15->tensorflow<2.16,>=2.15.0->tensorflow-text==2.15.*) (3.0.2)\n",
            "Requirement already satisfied: cachetools<6.0,>=2.0.0 in /usr/local/lib/python3.10/dist-packages (from google-auth<3,>=1.6.3->tensorboard<2.16,>=2.15->tensorflow<2.16,>=2.15.0->tensorflow-text==2.15.*) (5.3.3)\n",
            "Requirement already satisfied: pyasn1-modules>=0.2.1 in /usr/local/lib/python3.10/dist-packages (from google-auth<3,>=1.6.3->tensorboard<2.16,>=2.15->tensorflow<2.16,>=2.15.0->tensorflow-text==2.15.*) (0.4.0)\n",
            "Requirement already satisfied: rsa<5,>=3.1.4 in /usr/local/lib/python3.10/dist-packages (from google-auth<3,>=1.6.3->tensorboard<2.16,>=2.15->tensorflow<2.16,>=2.15.0->tensorflow-text==2.15.*) (4.9)\n",
            "Requirement already satisfied: requests-oauthlib>=0.7.0 in /usr/local/lib/python3.10/dist-packages (from google-auth-oauthlib<2,>=0.5->tensorboard<2.16,>=2.15->tensorflow<2.16,>=2.15.0->tensorflow-text==2.15.*) (1.3.1)\n",
            "Requirement already satisfied: charset-normalizer<4,>=2 in /usr/local/lib/python3.10/dist-packages (from requests<3,>=2.21.0->tensorboard<2.16,>=2.15->tensorflow<2.16,>=2.15.0->tensorflow-text==2.15.*) (3.3.2)\n",
            "Requirement already satisfied: idna<4,>=2.5 in /usr/local/lib/python3.10/dist-packages (from requests<3,>=2.21.0->tensorboard<2.16,>=2.15->tensorflow<2.16,>=2.15.0->tensorflow-text==2.15.*) (3.6)\n",
            "Requirement already satisfied: urllib3<3,>=1.21.1 in /usr/local/lib/python3.10/dist-packages (from requests<3,>=2.21.0->tensorboard<2.16,>=2.15->tensorflow<2.16,>=2.15.0->tensorflow-text==2.15.*) (2.0.7)\n",
            "Requirement already satisfied: certifi>=2017.4.17 in /usr/local/lib/python3.10/dist-packages (from requests<3,>=2.21.0->tensorboard<2.16,>=2.15->tensorflow<2.16,>=2.15.0->tensorflow-text==2.15.*) (2024.2.2)\n",
            "Requirement already satisfied: MarkupSafe>=2.1.1 in /usr/local/lib/python3.10/dist-packages (from werkzeug>=1.0.1->tensorboard<2.16,>=2.15->tensorflow<2.16,>=2.15.0->tensorflow-text==2.15.*) (2.1.5)\n",
            "Requirement already satisfied: pyasn1<0.7.0,>=0.4.6 in /usr/local/lib/python3.10/dist-packages (from pyasn1-modules>=0.2.1->google-auth<3,>=1.6.3->tensorboard<2.16,>=2.15->tensorflow<2.16,>=2.15.0->tensorflow-text==2.15.*) (0.6.0)\n",
            "Requirement already satisfied: oauthlib>=3.0.0 in /usr/local/lib/python3.10/dist-packages (from requests-oauthlib>=0.7.0->google-auth-oauthlib<2,>=0.5->tensorboard<2.16,>=2.15->tensorflow<2.16,>=2.15.0->tensorflow-text==2.15.*) (3.2.2)\n",
            "Installing collected packages: tensorflow-text\n",
            "Successfully installed tensorflow-text-2.15.0\n"
          ]
        }
      ]
    },
    {
      "cell_type": "code",
      "source": [
        "pip install \"tf-models-official==2.15.*\""
      ],
      "metadata": {
        "id": "PRgs0bhAzeiz",
        "colab": {
          "base_uri": "https://localhost:8080/"
        },
        "outputId": "c059556d-b567-431e-f6c8-a718fdd193ad"
      },
      "execution_count": null,
      "outputs": [
        {
          "output_type": "stream",
          "name": "stdout",
          "text": [
            "Collecting tf-models-official==2.15.*\n",
            "  Downloading tf_models_official-2.15.0-py2.py3-none-any.whl (2.7 MB)\n",
            "\u001b[2K     \u001b[90m━━━━━━━━━━━━━━━━━━━━━━━━━━━━━━━━━━━━━━━━\u001b[0m \u001b[32m2.7/2.7 MB\u001b[0m \u001b[31m22.5 MB/s\u001b[0m eta \u001b[36m0:00:00\u001b[0m\n",
            "\u001b[?25hRequirement already satisfied: Cython in /usr/local/lib/python3.10/dist-packages (from tf-models-official==2.15.*) (0.29.37)\n",
            "Requirement already satisfied: Pillow in /usr/local/lib/python3.10/dist-packages (from tf-models-official==2.15.*) (9.4.0)\n",
            "Requirement already satisfied: gin-config in /usr/local/lib/python3.10/dist-packages (from tf-models-official==2.15.*) (0.5.0)\n",
            "Requirement already satisfied: google-api-python-client>=1.6.7 in /usr/local/lib/python3.10/dist-packages (from tf-models-official==2.15.*) (2.84.0)\n",
            "Collecting immutabledict (from tf-models-official==2.15.*)\n",
            "  Downloading immutabledict-4.2.0-py3-none-any.whl (4.7 kB)\n",
            "Requirement already satisfied: kaggle>=1.3.9 in /usr/local/lib/python3.10/dist-packages (from tf-models-official==2.15.*) (1.5.16)\n",
            "Requirement already satisfied: matplotlib in /usr/local/lib/python3.10/dist-packages (from tf-models-official==2.15.*) (3.7.1)\n",
            "Requirement already satisfied: numpy>=1.20 in /usr/local/lib/python3.10/dist-packages (from tf-models-official==2.15.*) (1.25.2)\n",
            "Requirement already satisfied: oauth2client in /usr/local/lib/python3.10/dist-packages (from tf-models-official==2.15.*) (4.1.3)\n",
            "Requirement already satisfied: opencv-python-headless in /usr/local/lib/python3.10/dist-packages (from tf-models-official==2.15.*) (4.9.0.80)\n",
            "Requirement already satisfied: pandas>=0.22.0 in /usr/local/lib/python3.10/dist-packages (from tf-models-official==2.15.*) (2.0.3)\n",
            "Requirement already satisfied: psutil>=5.4.3 in /usr/local/lib/python3.10/dist-packages (from tf-models-official==2.15.*) (5.9.5)\n",
            "Requirement already satisfied: py-cpuinfo>=3.3.0 in /usr/local/lib/python3.10/dist-packages (from tf-models-official==2.15.*) (9.0.0)\n",
            "Requirement already satisfied: pycocotools in /usr/local/lib/python3.10/dist-packages (from tf-models-official==2.15.*) (2.0.7)\n",
            "Requirement already satisfied: pyyaml>=6.0.0 in /usr/local/lib/python3.10/dist-packages (from tf-models-official==2.15.*) (6.0.1)\n",
            "Collecting sacrebleu (from tf-models-official==2.15.*)\n",
            "  Downloading sacrebleu-2.4.2-py3-none-any.whl (106 kB)\n",
            "\u001b[2K     \u001b[90m━━━━━━━━━━━━━━━━━━━━━━━━━━━━━━━━━━━━━━━━\u001b[0m \u001b[32m106.7/106.7 kB\u001b[0m \u001b[31m13.8 MB/s\u001b[0m eta \u001b[36m0:00:00\u001b[0m\n",
            "\u001b[?25hRequirement already satisfied: scipy>=0.19.1 in /usr/local/lib/python3.10/dist-packages (from tf-models-official==2.15.*) (1.11.4)\n",
            "Requirement already satisfied: sentencepiece in /usr/local/lib/python3.10/dist-packages (from tf-models-official==2.15.*) (0.1.99)\n",
            "Collecting seqeval (from tf-models-official==2.15.*)\n",
            "  Downloading seqeval-1.2.2.tar.gz (43 kB)\n",
            "\u001b[2K     \u001b[90m━━━━━━━━━━━━━━━━━━━━━━━━━━━━━━━━━━━━━━━━\u001b[0m \u001b[32m43.6/43.6 kB\u001b[0m \u001b[31m4.6 MB/s\u001b[0m eta \u001b[36m0:00:00\u001b[0m\n",
            "\u001b[?25h  Preparing metadata (setup.py) ... \u001b[?25l\u001b[?25hdone\n",
            "Requirement already satisfied: six in /usr/local/lib/python3.10/dist-packages (from tf-models-official==2.15.*) (1.16.0)\n",
            "Requirement already satisfied: tensorflow-datasets in /usr/local/lib/python3.10/dist-packages (from tf-models-official==2.15.*) (4.9.4)\n",
            "Requirement already satisfied: tensorflow-hub>=0.6.0 in /usr/local/lib/python3.10/dist-packages (from tf-models-official==2.15.*) (0.16.1)\n",
            "Collecting tensorflow-model-optimization>=0.4.1 (from tf-models-official==2.15.*)\n",
            "  Downloading tensorflow_model_optimization-0.8.0-py2.py3-none-any.whl (242 kB)\n",
            "\u001b[2K     \u001b[90m━━━━━━━━━━━━━━━━━━━━━━━━━━━━━━━━━━━━━━━━\u001b[0m \u001b[32m242.5/242.5 kB\u001b[0m \u001b[31m28.7 MB/s\u001b[0m eta \u001b[36m0:00:00\u001b[0m\n",
            "\u001b[?25hRequirement already satisfied: tensorflow-text~=2.15.0 in /usr/local/lib/python3.10/dist-packages (from tf-models-official==2.15.*) (2.15.0)\n",
            "Requirement already satisfied: tensorflow~=2.15.0 in /usr/local/lib/python3.10/dist-packages (from tf-models-official==2.15.*) (2.15.0)\n",
            "Requirement already satisfied: tf-slim>=1.1.0 in /usr/local/lib/python3.10/dist-packages (from tf-models-official==2.15.*) (1.1.0)\n",
            "Requirement already satisfied: httplib2<1dev,>=0.15.0 in /usr/local/lib/python3.10/dist-packages (from google-api-python-client>=1.6.7->tf-models-official==2.15.*) (0.22.0)\n",
            "Requirement already satisfied: google-auth<3.0.0dev,>=1.19.0 in /usr/local/lib/python3.10/dist-packages (from google-api-python-client>=1.6.7->tf-models-official==2.15.*) (2.27.0)\n",
            "Requirement already satisfied: google-auth-httplib2>=0.1.0 in /usr/local/lib/python3.10/dist-packages (from google-api-python-client>=1.6.7->tf-models-official==2.15.*) (0.1.1)\n",
            "Requirement already satisfied: google-api-core!=2.0.*,!=2.1.*,!=2.2.*,!=2.3.0,<3.0.0dev,>=1.31.5 in /usr/local/lib/python3.10/dist-packages (from google-api-python-client>=1.6.7->tf-models-official==2.15.*) (2.11.1)\n",
            "Requirement already satisfied: uritemplate<5,>=3.0.1 in /usr/local/lib/python3.10/dist-packages (from google-api-python-client>=1.6.7->tf-models-official==2.15.*) (4.1.1)\n",
            "Requirement already satisfied: certifi in /usr/local/lib/python3.10/dist-packages (from kaggle>=1.3.9->tf-models-official==2.15.*) (2024.2.2)\n",
            "Requirement already satisfied: python-dateutil in /usr/local/lib/python3.10/dist-packages (from kaggle>=1.3.9->tf-models-official==2.15.*) (2.8.2)\n",
            "Requirement already satisfied: requests in /usr/local/lib/python3.10/dist-packages (from kaggle>=1.3.9->tf-models-official==2.15.*) (2.31.0)\n",
            "Requirement already satisfied: tqdm in /usr/local/lib/python3.10/dist-packages (from kaggle>=1.3.9->tf-models-official==2.15.*) (4.66.2)\n",
            "Requirement already satisfied: python-slugify in /usr/local/lib/python3.10/dist-packages (from kaggle>=1.3.9->tf-models-official==2.15.*) (8.0.4)\n",
            "Requirement already satisfied: urllib3 in /usr/local/lib/python3.10/dist-packages (from kaggle>=1.3.9->tf-models-official==2.15.*) (2.0.7)\n",
            "Requirement already satisfied: bleach in /usr/local/lib/python3.10/dist-packages (from kaggle>=1.3.9->tf-models-official==2.15.*) (6.1.0)\n",
            "Requirement already satisfied: pytz>=2020.1 in /usr/local/lib/python3.10/dist-packages (from pandas>=0.22.0->tf-models-official==2.15.*) (2023.4)\n",
            "Requirement already satisfied: tzdata>=2022.1 in /usr/local/lib/python3.10/dist-packages (from pandas>=0.22.0->tf-models-official==2.15.*) (2024.1)\n",
            "Requirement already satisfied: absl-py>=1.0.0 in /usr/local/lib/python3.10/dist-packages (from tensorflow~=2.15.0->tf-models-official==2.15.*) (1.4.0)\n",
            "Requirement already satisfied: astunparse>=1.6.0 in /usr/local/lib/python3.10/dist-packages (from tensorflow~=2.15.0->tf-models-official==2.15.*) (1.6.3)\n",
            "Requirement already satisfied: flatbuffers>=23.5.26 in /usr/local/lib/python3.10/dist-packages (from tensorflow~=2.15.0->tf-models-official==2.15.*) (24.3.25)\n",
            "Requirement already satisfied: gast!=0.5.0,!=0.5.1,!=0.5.2,>=0.2.1 in /usr/local/lib/python3.10/dist-packages (from tensorflow~=2.15.0->tf-models-official==2.15.*) (0.5.4)\n",
            "Requirement already satisfied: google-pasta>=0.1.1 in /usr/local/lib/python3.10/dist-packages (from tensorflow~=2.15.0->tf-models-official==2.15.*) (0.2.0)\n",
            "Requirement already satisfied: h5py>=2.9.0 in /usr/local/lib/python3.10/dist-packages (from tensorflow~=2.15.0->tf-models-official==2.15.*) (3.9.0)\n",
            "Requirement already satisfied: libclang>=13.0.0 in /usr/local/lib/python3.10/dist-packages (from tensorflow~=2.15.0->tf-models-official==2.15.*) (18.1.1)\n",
            "Requirement already satisfied: ml-dtypes~=0.2.0 in /usr/local/lib/python3.10/dist-packages (from tensorflow~=2.15.0->tf-models-official==2.15.*) (0.2.0)\n",
            "Requirement already satisfied: opt-einsum>=2.3.2 in /usr/local/lib/python3.10/dist-packages (from tensorflow~=2.15.0->tf-models-official==2.15.*) (3.3.0)\n",
            "Requirement already satisfied: packaging in /usr/local/lib/python3.10/dist-packages (from tensorflow~=2.15.0->tf-models-official==2.15.*) (24.0)\n",
            "Requirement already satisfied: protobuf!=4.21.0,!=4.21.1,!=4.21.2,!=4.21.3,!=4.21.4,!=4.21.5,<5.0.0dev,>=3.20.3 in /usr/local/lib/python3.10/dist-packages (from tensorflow~=2.15.0->tf-models-official==2.15.*) (3.20.3)\n",
            "Requirement already satisfied: setuptools in /usr/local/lib/python3.10/dist-packages (from tensorflow~=2.15.0->tf-models-official==2.15.*) (67.7.2)\n",
            "Requirement already satisfied: termcolor>=1.1.0 in /usr/local/lib/python3.10/dist-packages (from tensorflow~=2.15.0->tf-models-official==2.15.*) (2.4.0)\n",
            "Requirement already satisfied: typing-extensions>=3.6.6 in /usr/local/lib/python3.10/dist-packages (from tensorflow~=2.15.0->tf-models-official==2.15.*) (4.11.0)\n",
            "Requirement already satisfied: wrapt<1.15,>=1.11.0 in /usr/local/lib/python3.10/dist-packages (from tensorflow~=2.15.0->tf-models-official==2.15.*) (1.14.1)\n",
            "Requirement already satisfied: tensorflow-io-gcs-filesystem>=0.23.1 in /usr/local/lib/python3.10/dist-packages (from tensorflow~=2.15.0->tf-models-official==2.15.*) (0.36.0)\n",
            "Requirement already satisfied: grpcio<2.0,>=1.24.3 in /usr/local/lib/python3.10/dist-packages (from tensorflow~=2.15.0->tf-models-official==2.15.*) (1.62.1)\n",
            "Requirement already satisfied: tensorboard<2.16,>=2.15 in /usr/local/lib/python3.10/dist-packages (from tensorflow~=2.15.0->tf-models-official==2.15.*) (2.15.2)\n",
            "Requirement already satisfied: tensorflow-estimator<2.16,>=2.15.0 in /usr/local/lib/python3.10/dist-packages (from tensorflow~=2.15.0->tf-models-official==2.15.*) (2.15.0)\n",
            "Requirement already satisfied: keras<2.16,>=2.15.0 in /usr/local/lib/python3.10/dist-packages (from tensorflow~=2.15.0->tf-models-official==2.15.*) (2.15.0)\n",
            "Requirement already satisfied: tf-keras>=2.14.1 in /usr/local/lib/python3.10/dist-packages (from tensorflow-hub>=0.6.0->tf-models-official==2.15.*) (2.15.1)\n",
            "Requirement already satisfied: dm-tree~=0.1.1 in /usr/local/lib/python3.10/dist-packages (from tensorflow-model-optimization>=0.4.1->tf-models-official==2.15.*) (0.1.8)\n",
            "Requirement already satisfied: contourpy>=1.0.1 in /usr/local/lib/python3.10/dist-packages (from matplotlib->tf-models-official==2.15.*) (1.2.1)\n",
            "Requirement already satisfied: cycler>=0.10 in /usr/local/lib/python3.10/dist-packages (from matplotlib->tf-models-official==2.15.*) (0.12.1)\n",
            "Requirement already satisfied: fonttools>=4.22.0 in /usr/local/lib/python3.10/dist-packages (from matplotlib->tf-models-official==2.15.*) (4.51.0)\n",
            "Requirement already satisfied: kiwisolver>=1.0.1 in /usr/local/lib/python3.10/dist-packages (from matplotlib->tf-models-official==2.15.*) (1.4.5)\n",
            "Requirement already satisfied: pyparsing>=2.3.1 in /usr/local/lib/python3.10/dist-packages (from matplotlib->tf-models-official==2.15.*) (3.1.2)\n",
            "Requirement already satisfied: pyasn1>=0.1.7 in /usr/local/lib/python3.10/dist-packages (from oauth2client->tf-models-official==2.15.*) (0.6.0)\n",
            "Requirement already satisfied: pyasn1-modules>=0.0.5 in /usr/local/lib/python3.10/dist-packages (from oauth2client->tf-models-official==2.15.*) (0.4.0)\n",
            "Requirement already satisfied: rsa>=3.1.4 in /usr/local/lib/python3.10/dist-packages (from oauth2client->tf-models-official==2.15.*) (4.9)\n",
            "Collecting portalocker (from sacrebleu->tf-models-official==2.15.*)\n",
            "  Downloading portalocker-2.8.2-py3-none-any.whl (17 kB)\n",
            "Requirement already satisfied: regex in /usr/local/lib/python3.10/dist-packages (from sacrebleu->tf-models-official==2.15.*) (2023.12.25)\n",
            "Requirement already satisfied: tabulate>=0.8.9 in /usr/local/lib/python3.10/dist-packages (from sacrebleu->tf-models-official==2.15.*) (0.9.0)\n",
            "Collecting colorama (from sacrebleu->tf-models-official==2.15.*)\n",
            "  Downloading colorama-0.4.6-py2.py3-none-any.whl (25 kB)\n",
            "Requirement already satisfied: lxml in /usr/local/lib/python3.10/dist-packages (from sacrebleu->tf-models-official==2.15.*) (4.9.4)\n",
            "Requirement already satisfied: scikit-learn>=0.21.3 in /usr/local/lib/python3.10/dist-packages (from seqeval->tf-models-official==2.15.*) (1.2.2)\n",
            "Requirement already satisfied: click in /usr/local/lib/python3.10/dist-packages (from tensorflow-datasets->tf-models-official==2.15.*) (8.1.7)\n",
            "Requirement already satisfied: etils[enp,epath,etree]>=0.9.0 in /usr/local/lib/python3.10/dist-packages (from tensorflow-datasets->tf-models-official==2.15.*) (1.7.0)\n",
            "Requirement already satisfied: promise in /usr/local/lib/python3.10/dist-packages (from tensorflow-datasets->tf-models-official==2.15.*) (2.3)\n",
            "Requirement already satisfied: tensorflow-metadata in /usr/local/lib/python3.10/dist-packages (from tensorflow-datasets->tf-models-official==2.15.*) (1.14.0)\n",
            "Requirement already satisfied: toml in /usr/local/lib/python3.10/dist-packages (from tensorflow-datasets->tf-models-official==2.15.*) (0.10.2)\n",
            "Requirement already satisfied: array-record>=0.5.0 in /usr/local/lib/python3.10/dist-packages (from tensorflow-datasets->tf-models-official==2.15.*) (0.5.1)\n",
            "Requirement already satisfied: wheel<1.0,>=0.23.0 in /usr/local/lib/python3.10/dist-packages (from astunparse>=1.6.0->tensorflow~=2.15.0->tf-models-official==2.15.*) (0.43.0)\n",
            "Requirement already satisfied: fsspec in /usr/local/lib/python3.10/dist-packages (from etils[enp,epath,etree]>=0.9.0->tensorflow-datasets->tf-models-official==2.15.*) (2023.6.0)\n",
            "Requirement already satisfied: importlib_resources in /usr/local/lib/python3.10/dist-packages (from etils[enp,epath,etree]>=0.9.0->tensorflow-datasets->tf-models-official==2.15.*) (6.4.0)\n",
            "Requirement already satisfied: zipp in /usr/local/lib/python3.10/dist-packages (from etils[enp,epath,etree]>=0.9.0->tensorflow-datasets->tf-models-official==2.15.*) (3.18.1)\n",
            "Requirement already satisfied: googleapis-common-protos<2.0.dev0,>=1.56.2 in /usr/local/lib/python3.10/dist-packages (from google-api-core!=2.0.*,!=2.1.*,!=2.2.*,!=2.3.0,<3.0.0dev,>=1.31.5->google-api-python-client>=1.6.7->tf-models-official==2.15.*) (1.63.0)\n",
            "Requirement already satisfied: cachetools<6.0,>=2.0.0 in /usr/local/lib/python3.10/dist-packages (from google-auth<3.0.0dev,>=1.19.0->google-api-python-client>=1.6.7->tf-models-official==2.15.*) (5.3.3)\n",
            "Requirement already satisfied: charset-normalizer<4,>=2 in /usr/local/lib/python3.10/dist-packages (from requests->kaggle>=1.3.9->tf-models-official==2.15.*) (3.3.2)\n",
            "Requirement already satisfied: idna<4,>=2.5 in /usr/local/lib/python3.10/dist-packages (from requests->kaggle>=1.3.9->tf-models-official==2.15.*) (3.6)\n",
            "Requirement already satisfied: joblib>=1.1.1 in /usr/local/lib/python3.10/dist-packages (from scikit-learn>=0.21.3->seqeval->tf-models-official==2.15.*) (1.4.0)\n",
            "Requirement already satisfied: threadpoolctl>=2.0.0 in /usr/local/lib/python3.10/dist-packages (from scikit-learn>=0.21.3->seqeval->tf-models-official==2.15.*) (3.4.0)\n",
            "Requirement already satisfied: google-auth-oauthlib<2,>=0.5 in /usr/local/lib/python3.10/dist-packages (from tensorboard<2.16,>=2.15->tensorflow~=2.15.0->tf-models-official==2.15.*) (1.2.0)\n",
            "Requirement already satisfied: markdown>=2.6.8 in /usr/local/lib/python3.10/dist-packages (from tensorboard<2.16,>=2.15->tensorflow~=2.15.0->tf-models-official==2.15.*) (3.6)\n",
            "Requirement already satisfied: tensorboard-data-server<0.8.0,>=0.7.0 in /usr/local/lib/python3.10/dist-packages (from tensorboard<2.16,>=2.15->tensorflow~=2.15.0->tf-models-official==2.15.*) (0.7.2)\n",
            "Requirement already satisfied: werkzeug>=1.0.1 in /usr/local/lib/python3.10/dist-packages (from tensorboard<2.16,>=2.15->tensorflow~=2.15.0->tf-models-official==2.15.*) (3.0.2)\n",
            "Requirement already satisfied: webencodings in /usr/local/lib/python3.10/dist-packages (from bleach->kaggle>=1.3.9->tf-models-official==2.15.*) (0.5.1)\n",
            "Requirement already satisfied: text-unidecode>=1.3 in /usr/local/lib/python3.10/dist-packages (from python-slugify->kaggle>=1.3.9->tf-models-official==2.15.*) (1.3)\n",
            "Requirement already satisfied: requests-oauthlib>=0.7.0 in /usr/local/lib/python3.10/dist-packages (from google-auth-oauthlib<2,>=0.5->tensorboard<2.16,>=2.15->tensorflow~=2.15.0->tf-models-official==2.15.*) (1.3.1)\n",
            "Requirement already satisfied: MarkupSafe>=2.1.1 in /usr/local/lib/python3.10/dist-packages (from werkzeug>=1.0.1->tensorboard<2.16,>=2.15->tensorflow~=2.15.0->tf-models-official==2.15.*) (2.1.5)\n",
            "Requirement already satisfied: oauthlib>=3.0.0 in /usr/local/lib/python3.10/dist-packages (from requests-oauthlib>=0.7.0->google-auth-oauthlib<2,>=0.5->tensorboard<2.16,>=2.15->tensorflow~=2.15.0->tf-models-official==2.15.*) (3.2.2)\n",
            "Building wheels for collected packages: seqeval\n",
            "  Building wheel for seqeval (setup.py) ... \u001b[?25l\u001b[?25hdone\n",
            "  Created wheel for seqeval: filename=seqeval-1.2.2-py3-none-any.whl size=16161 sha256=0bf74096dfebaaf63e6092cd36eed3430344a33a3ef7a8c422a7b4c3b26facc4\n",
            "  Stored in directory: /root/.cache/pip/wheels/1a/67/4a/ad4082dd7dfc30f2abfe4d80a2ed5926a506eb8a972b4767fa\n",
            "Successfully built seqeval\n",
            "Installing collected packages: tensorflow-model-optimization, portalocker, immutabledict, colorama, sacrebleu, seqeval, tf-models-official\n",
            "Successfully installed colorama-0.4.6 immutabledict-4.2.0 portalocker-2.8.2 sacrebleu-2.4.2 seqeval-1.2.2 tensorflow-model-optimization-0.8.0 tf-models-official-2.15.0\n"
          ]
        }
      ]
    },
    {
      "cell_type": "code",
      "source": [
        "!pip install umap-learn hdbscan"
      ],
      "metadata": {
        "id": "4XhLErLAze9v"
      },
      "execution_count": null,
      "outputs": []
    },
    {
      "cell_type": "code",
      "source": [
        "import os\n",
        "import shutil\n",
        "\n",
        "import tensorflow_hub as hub\n",
        "import tensorflow_text as text\n",
        "from official.nlp import optimization  # to create AdamW optimizer\n",
        "\n",
        "import matplotlib.pyplot as plt\n",
        "\n",
        "tf.get_logger().setLevel('ERROR')"
      ],
      "metadata": {
        "id": "Rp5ePctEzet2"
      },
      "execution_count": null,
      "outputs": []
    },
    {
      "cell_type": "code",
      "source": [
        "import pandas as pd\n",
        "\n",
        "# Load the dataset\n",
        "df = pd.read_csv(\"california_housing_test.csv\", encoding='utf-8')\n",
        "\n",
        "# Preview the data\n",
        "print(df.head())"
      ],
      "metadata": {
        "id": "d17FuL_lzfEB"
      },
      "execution_count": null,
      "outputs": []
    },
    {
      "cell_type": "code",
      "source": [],
      "metadata": {
        "id": "-gLG5CrnzfIb"
      },
      "execution_count": null,
      "outputs": []
    },
    {
      "cell_type": "code",
      "source": [],
      "metadata": {
        "id": "GR3-vyy2LNmT"
      },
      "execution_count": null,
      "outputs": []
    },
    {
      "cell_type": "code",
      "source": [],
      "metadata": {
        "id": "PbMESLhGLNsS"
      },
      "execution_count": null,
      "outputs": []
    },
    {
      "cell_type": "code",
      "source": [],
      "metadata": {
        "id": "CSOGSuTDLNwT"
      },
      "execution_count": null,
      "outputs": []
    },
    {
      "cell_type": "markdown",
      "source": [
        "## **Fine-tune Topic Representations**"
      ],
      "metadata": {
        "id": "otA1HDytL_5N"
      }
    },
    {
      "cell_type": "code",
      "source": [],
      "metadata": {
        "id": "lpwN6J8qLN0W"
      },
      "execution_count": null,
      "outputs": []
    },
    {
      "cell_type": "code",
      "source": [],
      "metadata": {
        "id": "c_70-mtlLN30"
      },
      "execution_count": null,
      "outputs": []
    },
    {
      "cell_type": "markdown",
      "source": [
        "## **拓展阅读**\n",
        "\n",
        "You may want to install more depending on the transformers and language backends that you will be using. The possible installations are:"
      ],
      "metadata": {
        "id": "jlft9qjiLOgJ"
      }
    },
    {
      "cell_type": "code",
      "source": [
        "# Choose an embedding backend\n",
        "pip install bertopic[flair, gensim, spacy, use]\n",
        "\n",
        "# Topic modeling with images\n",
        "pip install bertopic[vision]"
      ],
      "metadata": {
        "id": "cQSjtc0vLUgw"
      },
      "execution_count": null,
      "outputs": []
    },
    {
      "cell_type": "markdown",
      "source": [
        "# **A Step-by-Step Case Study using RoBERTa to Analyze XXX Dataset**"
      ],
      "metadata": {
        "id": "xcHpAI362H37"
      }
    },
    {
      "cell_type": "code",
      "source": [],
      "metadata": {
        "id": "nHp_m36aCGGS"
      },
      "execution_count": null,
      "outputs": []
    },
    {
      "cell_type": "code",
      "source": [],
      "metadata": {
        "id": "ERWYnTtYCGPL"
      },
      "execution_count": null,
      "outputs": []
    },
    {
      "cell_type": "code",
      "source": [],
      "metadata": {
        "id": "QXXGDaihCGYk"
      },
      "execution_count": null,
      "outputs": []
    },
    {
      "cell_type": "markdown",
      "source": [
        "# **举一反三**"
      ],
      "metadata": {
        "id": "Gw7BwVL-2IF8"
      }
    },
    {
      "cell_type": "markdown",
      "source": [],
      "metadata": {
        "id": "uSCDBlyzCa_x"
      }
    },
    {
      "cell_type": "markdown",
      "source": [],
      "metadata": {
        "id": "lBcovGPKCbR1"
      }
    },
    {
      "cell_type": "markdown",
      "source": [],
      "metadata": {
        "id": "N2sf8ZjuCbdx"
      }
    },
    {
      "cell_type": "markdown",
      "source": [
        "# **Frequently Asked Questions**"
      ],
      "metadata": {
        "id": "SbhVeLI72Idj"
      }
    },
    {
      "cell_type": "markdown",
      "source": [
        "**1. What is**\n",
        "\n",
        "\n",
        "**2. When and why do we go to some specific BERT models?**\n",
        "\n",
        "\n",
        "3."
      ],
      "metadata": {
        "id": "ISKzzG5T1-Vj"
      }
    },
    {
      "cell_type": "code",
      "source": [],
      "metadata": {
        "id": "t1OrRwrh19jd"
      },
      "execution_count": null,
      "outputs": []
    },
    {
      "cell_type": "markdown",
      "source": [],
      "metadata": {
        "id": "b0PtxLrAGi2s"
      }
    },
    {
      "cell_type": "markdown",
      "source": [
        "# **Suggested Readings**"
      ],
      "metadata": {
        "id": "afh4H8QJvHiw"
      }
    },
    {
      "cell_type": "markdown",
      "source": [
        "1. https://github.com/MaartenGr/BERTopic\n",
        "\n",
        "2. Leveraging BERT and c-TF-IDF to create easily interpretable topics: maartengr.github.io/BERTopic/\n",
        "\n",
        "3. Natural Language Processing: A Textbook with Python Implementation (by Raymond S. T. Lee): https://www.amazon.co.uk/Natural-Language-Processing-Textbook-Implementation-ebook/dp/B0CBR29GV2\n",
        "\n",
        "4. Speech and Language Processing (3rd ed. draft) (by Dan Jurafsky and James H. Martin): https://web.stanford.edu/~jurafsky/slp3/\n",
        "\n"
      ],
      "metadata": {
        "id": "pUMB7LJux1aN"
      }
    },
    {
      "cell_type": "markdown",
      "source": [
        "# **License**\n",
        "\n",
        "This project is licensed under the BSD-3-Clause license."
      ],
      "metadata": {
        "id": "dKzc7kZfBBU7"
      }
    }
  ]
}